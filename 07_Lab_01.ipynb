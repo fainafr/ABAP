{
  "cells": [
    {
      "cell_type": "markdown",
      "metadata": {
        "id": "view-in-github",
        "colab_type": "text"
      },
      "source": [
        "<a href=\"https://colab.research.google.com/github/fainafr/ABAP/blob/master/07_Lab_01.ipynb\" target=\"_parent\"><img src=\"https://colab.research.google.com/assets/colab-badge.svg\" alt=\"Open In Colab\"/></a>"
      ]
    },
    {
      "cell_type": "markdown",
      "id": "1c25491a",
      "metadata": {
        "id": "1c25491a"
      },
      "source": [
        "# Python Lab 01\n",
        "### Variables"
      ]
    },
    {
      "cell_type": "markdown",
      "id": "8e9cdeb4",
      "metadata": {
        "id": "8e9cdeb4"
      },
      "source": [
        "## Question 1: Calculate the result to the following equation:\n",
        "$result = 6a^b - \\frac{6c}{1.5b} + 11$"
      ]
    },
    {
      "cell_type": "code",
      "execution_count": null,
      "id": "825aa271",
      "metadata": {
        "id": "825aa271"
      },
      "outputs": [],
      "source": [
        "a = 4\n",
        "b = 1\n",
        "c = 2"
      ]
    },
    {
      "cell_type": "code",
      "execution_count": 3,
      "id": "c2cbc4a1",
      "metadata": {
        "id": "c2cbc4a1",
        "outputId": "919608d9-52c6-43ef-9fdd-c8ec502cd93c",
        "colab": {
          "base_uri": "https://localhost:8080/"
        }
      },
      "outputs": [
        {
          "output_type": "stream",
          "name": "stdout",
          "text": [
            "27.0\n"
          ]
        }
      ],
      "source": [
        "result = 6*int(4)**int(1) - 6*int(2) / 1.5 * int(1) + 11\n",
        "print(result)"
      ]
    },
    {
      "cell_type": "markdown",
      "id": "5f4faa60",
      "metadata": {
        "id": "5f4faa60"
      },
      "source": [
        "## Question 2: Calculate the result to the following equation:\n",
        "$result2 = (2a)^{4} \\times (4b) - \\frac{8c + 4^3}{10b^2} - 50a^4$"
      ]
    },
    {
      "cell_type": "code",
      "execution_count": null,
      "id": "9f80132c",
      "metadata": {
        "id": "9f80132c",
        "outputId": "a22afd27-7f71-4312-8bc8-afea0f73ee65"
      },
      "outputs": [
        {
          "name": "stdout",
          "output_type": "stream",
          "text": [
            "3576.0\n"
          ]
        }
      ],
      "source": [
        "result2 = #your code here\n",
        "print(result2)"
      ]
    },
    {
      "cell_type": "markdown",
      "id": "3a253aa1",
      "metadata": {
        "id": "3a253aa1"
      },
      "source": [
        "## Question 3: Given the following number `num`, calculate and print:\n",
        "* The first digit\n",
        "* The second digit\n",
        "* The third digit\n",
        "* The sum of digits\n",
        "\n",
        "### Hint: use modulo (`%`)"
      ]
    },
    {
      "cell_type": "code",
      "execution_count": 17,
      "id": "6d068e5b",
      "metadata": {
        "id": "6d068e5b",
        "colab": {
          "base_uri": "https://localhost:8080/"
        },
        "outputId": "58de8f2f-c764-44b0-88b9-cef835d56342"
      },
      "outputs": [
        {
          "output_type": "stream",
          "name": "stdout",
          "text": [
            "6\n",
            "5\n",
            "4\n"
          ]
        }
      ],
      "source": [
        "num = 456\n",
        "num1 = int(num)\n",
        "print(num1 % 10)\n",
        "print(int(( num1 % 100 - num1 % 10 ) / 10))\n",
        "print(int(num1 / 100))"
      ]
    },
    {
      "cell_type": "code",
      "execution_count": 18,
      "id": "7f615eae",
      "metadata": {
        "id": "7f615eae",
        "outputId": "883f90b4-741b-4c7c-f545-a1cc5ed595ef",
        "colab": {
          "base_uri": "https://localhost:8080/"
        }
      },
      "outputs": [
        {
          "output_type": "stream",
          "name": "stdout",
          "text": [
            "6\n",
            "5\n",
            "4\n",
            "15\n"
          ]
        }
      ],
      "source": [
        "digit1 = num1 % 10\n",
        "digit2 = int(( num1 % 100 - num1 % 10 ) / 10)\n",
        "digit3 = int(num1 / 100)\n",
        "sum_of_digits = int(digit1 + digit2 + digit3)\n",
        "print(digit1)\n",
        "print(digit2)\n",
        "print(digit3)\n",
        "print(sum_of_digits)"
      ]
    },
    {
      "cell_type": "markdown",
      "id": "7f4300a8",
      "metadata": {
        "id": "7f4300a8"
      },
      "source": [
        "## Question 4: Given the string `txt`, create a bool that says if `txt` answers these conditions:\n",
        "* The length of `txt` is equal or bigger than 5 - use `len(txt`\n",
        "* The length of `txt` is even numbered (dividable by two) - use modulo (`%`)\n",
        "* `txt` starts with the letter a, b - use `txt.startswith()`\n",
        "\n",
        "### After you're done test the same code on `txt2`"
      ]
    },
    {
      "cell_type": "code",
      "execution_count": null,
      "id": "6cd79e26",
      "metadata": {
        "id": "6cd79e26"
      },
      "outputs": [],
      "source": [
        "txt = 'encyclopedia'"
      ]
    },
    {
      "cell_type": "code",
      "execution_count": 23,
      "id": "2bc7f10e",
      "metadata": {
        "id": "2bc7f10e",
        "outputId": "dd157f9b-237f-4430-ce4b-3838396e628c",
        "colab": {
          "base_uri": "https://localhost:8080/"
        }
      },
      "outputs": [
        {
          "output_type": "stream",
          "name": "stdout",
          "text": [
            "False\n"
          ]
        }
      ],
      "source": [
        "txt = 'encyclopedia'\n",
        "result3 = (len(txt) >= 5) and (len(txt) % 2 == 0)  and (txt.startswith('a') or txt.startswith('b'))\n",
        "print(result3)"
      ]
    },
    {
      "cell_type": "code",
      "execution_count": 24,
      "id": "da856732",
      "metadata": {
        "id": "da856732",
        "outputId": "06582112-50e0-458e-f460-90040fa01dc2",
        "colab": {
          "base_uri": "https://localhost:8080/"
        }
      },
      "outputs": [
        {
          "output_type": "stream",
          "name": "stdout",
          "text": [
            "False\n"
          ]
        }
      ],
      "source": [
        "txt2 = 'banana'\n",
        "result4 = (len(txt) >= 5) and (len(txt) % 2 == 0)  and (txt.startswith('a') or txt.startswith('b'))\n",
        "print(result4)"
      ]
    }
  ],
  "metadata": {
    "kernelspec": {
      "display_name": "Python 3 (ipykernel)",
      "language": "python",
      "name": "python3"
    },
    "language_info": {
      "codemirror_mode": {
        "name": "ipython",
        "version": 3
      },
      "file_extension": ".py",
      "mimetype": "text/x-python",
      "name": "python",
      "nbconvert_exporter": "python",
      "pygments_lexer": "ipython3",
      "version": "3.9.12"
    },
    "colab": {
      "provenance": [],
      "include_colab_link": true
    }
  },
  "nbformat": 4,
  "nbformat_minor": 5
}
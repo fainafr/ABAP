{
  "cells": [
    {
      "cell_type": "markdown",
      "metadata": {
        "id": "view-in-github",
        "colab_type": "text"
      },
      "source": [
        "<a href=\"https://colab.research.google.com/github/fainafr/ABAP/blob/master/06_Try_%26_Except_Exercise.ipynb\" target=\"_parent\"><img src=\"https://colab.research.google.com/assets/colab-badge.svg\" alt=\"Open In Colab\"/></a>"
      ]
    },
    {
      "cell_type": "markdown",
      "id": "3a1ecda5",
      "metadata": {
        "id": "3a1ecda5"
      },
      "source": [
        "# 06 - Try & Except Exercise"
      ]
    },
    {
      "cell_type": "markdown",
      "id": "6b3d6782",
      "metadata": {
        "id": "6b3d6782"
      },
      "source": [
        "## Question 1: Cast the following variables to int. Use `try` and `except` to print a message if the casting fails"
      ]
    },
    {
      "cell_type": "code",
      "execution_count": null,
      "id": "674d0240",
      "metadata": {
        "id": "674d0240"
      },
      "outputs": [],
      "source": [
        "a = 17.2\n",
        "b = '5'\n",
        "c = True"
      ]
    },
    {
      "cell_type": "code",
      "execution_count": 4,
      "id": "8900f11a",
      "metadata": {
        "id": "8900f11a"
      },
      "outputs": [],
      "source": [
        "#code\n",
        "try:\n",
        "  a = int(17.2)\n",
        "except:\n",
        "  print('error cast')\n"
      ]
    },
    {
      "cell_type": "markdown",
      "id": "f7873b62",
      "metadata": {
        "id": "f7873b62"
      },
      "source": [
        "## Question 2: Try to cast `val` as a float. If the casting fails, fix the problem and then cast it."
      ]
    },
    {
      "cell_type": "code",
      "execution_count": null,
      "id": "3e96ccac",
      "metadata": {
        "id": "3e96ccac"
      },
      "outputs": [],
      "source": [
        "val = '17,99'"
      ]
    },
    {
      "cell_type": "code",
      "execution_count": null,
      "id": "8835fffc",
      "metadata": {
        "id": "8835fffc"
      },
      "outputs": [],
      "source": []
    },
    {
      "cell_type": "code",
      "execution_count": null,
      "id": "a623d1a0",
      "metadata": {
        "colab": {
          "base_uri": "https://localhost:8080/"
        },
        "id": "a623d1a0",
        "outputId": "b31eeda4-834b-498f-e37f-30889702bcb9"
      },
      "outputs": [
        {
          "output_type": "execute_result",
          "data": {
            "text/plain": [
              "float"
            ]
          },
          "metadata": {},
          "execution_count": 13
        }
      ],
      "source": [
        "type(val)"
      ]
    },
    {
      "cell_type": "markdown",
      "id": "bf06ba54",
      "metadata": {
        "id": "bf06ba54"
      },
      "source": [
        "## Question 3: Try to cast `val2` as an int. If the casting fails, fix the problem and then cast it."
      ]
    },
    {
      "cell_type": "code",
      "execution_count": 5,
      "id": "b68f6d28",
      "metadata": {
        "id": "b68f6d28",
        "colab": {
          "base_uri": "https://localhost:8080/"
        },
        "outputId": "b19c1a46-4698-4f72-a100-53a0478d0f54"
      },
      "outputs": [
        {
          "output_type": "stream",
          "name": "stdout",
          "text": [
            "error casting\n"
          ]
        }
      ],
      "source": [
        "val2 = '1,000,000 '\n",
        "try:\n",
        "   val2 = int('1,000,000 ')\n",
        "except:\n",
        "  print(\"error casting\")"
      ]
    },
    {
      "cell_type": "code",
      "execution_count": null,
      "id": "9d1cfc7b",
      "metadata": {
        "id": "9d1cfc7b"
      },
      "outputs": [],
      "source": []
    },
    {
      "cell_type": "code",
      "execution_count": 7,
      "id": "ae09b06b",
      "metadata": {
        "colab": {
          "base_uri": "https://localhost:8080/"
        },
        "id": "ae09b06b",
        "outputId": "181a151f-b572-4d90-b5e2-da9c63bee131"
      },
      "outputs": [
        {
          "output_type": "stream",
          "name": "stdout",
          "text": [
            "<class 'str'>\n",
            "1,000,000 \n",
            "error\n",
            "1,000,000\n"
          ]
        }
      ],
      "source": [
        "type(val2)\n",
        "print(type(val2))\n",
        "\n",
        "print(val2)\n",
        "try:\n",
        "  val21 = int(val2)\n",
        "except:\n",
        "  print('error')\n",
        "\n",
        "print(\"1,000,000\")"
      ]
    }
  ],
  "metadata": {
    "kernelspec": {
      "display_name": "Python 3 (ipykernel)",
      "language": "python",
      "name": "python3"
    },
    "language_info": {
      "codemirror_mode": {
        "name": "ipython",
        "version": 3
      },
      "file_extension": ".py",
      "mimetype": "text/x-python",
      "name": "python",
      "nbconvert_exporter": "python",
      "pygments_lexer": "ipython3",
      "version": "3.9.12"
    },
    "colab": {
      "provenance": [],
      "include_colab_link": true
    }
  },
  "nbformat": 4,
  "nbformat_minor": 5
}
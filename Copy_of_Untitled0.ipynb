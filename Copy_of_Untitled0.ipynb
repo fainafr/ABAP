{
  "nbformat": 4,
  "nbformat_minor": 0,
  "metadata": {
    "colab": {
      "provenance": [],
      "authorship_tag": "ABX9TyM01e8dhEc+hiRsammU8jBW",
      "include_colab_link": true
    },
    "kernelspec": {
      "name": "python3",
      "display_name": "Python 3"
    },
    "language_info": {
      "name": "python"
    }
  },
  "cells": [
    {
      "cell_type": "markdown",
      "metadata": {
        "id": "view-in-github",
        "colab_type": "text"
      },
      "source": [
        "<a href=\"https://colab.research.google.com/github/fainafr/ABAP/blob/master/Copy_of_Untitled0.ipynb\" target=\"_parent\"><img src=\"https://colab.research.google.com/assets/colab-badge.svg\" alt=\"Open In Colab\"/></a>"
      ]
    },
    {
      "cell_type": "code",
      "execution_count": null,
      "metadata": {
        "colab": {
          "base_uri": "https://localhost:8080/"
        },
        "id": "dL1_LRt2qbIl",
        "outputId": "0c92b74c-54fb-4c08-9410-02934f782c07"
      },
      "outputs": [
        {
          "output_type": "stream",
          "name": "stdout",
          "text": [
            "Faina\n"
          ]
        }
      ],
      "source": [
        "print('Faina')"
      ]
    },
    {
      "cell_type": "code",
      "source": [
        "print('Faina', input('enter your age '))"
      ],
      "metadata": {
        "colab": {
          "base_uri": "https://localhost:8080/"
        },
        "id": "CPXN-eqQq81j",
        "outputId": "6ee5c516-c3eb-4a7b-8067-3262564a1ff6"
      },
      "execution_count": null,
      "outputs": [
        {
          "output_type": "stream",
          "name": "stdout",
          "text": [
            "enter your age 56\n",
            "Faina 56\n"
          ]
        }
      ]
    },
    {
      "cell_type": "code",
      "source": [
        "name = 'Faina'\n"
      ],
      "metadata": {
        "id": "xRiaVc7HrVkW"
      },
      "execution_count": null,
      "outputs": []
    },
    {
      "cell_type": "code",
      "source": [
        "name = 'Faina'\n",
        "print(name)\n",
        "print(input('Enter your name'))\n",
        "print(input('enter first name'),sep=\" \")\n",
        "print(input('enter last name'),sep=\" \")\n",
        "\n"
      ],
      "metadata": {
        "colab": {
          "base_uri": "https://localhost:8080/"
        },
        "id": "abZiaDxgrcGy",
        "outputId": "3ff0c4d5-ef96-4f90-82f1-d9942672fcd2"
      },
      "execution_count": null,
      "outputs": [
        {
          "output_type": "stream",
          "name": "stdout",
          "text": [
            "Faina\n",
            "Enter your nameff\n",
            "ff\n",
            "enter first namefr\n",
            "fr\n",
            "enter last namefffrr\n",
            "fffrr\n"
          ]
        }
      ]
    },
    {
      "cell_type": "code",
      "source": [
        "a, b = input(\"Enter first and last name \").split()\n",
        "print(\"First name is {} and last name is {}\".format(a, b))\n",
        "print(\"full name is\", a + \" \" + b)"
      ],
      "metadata": {
        "colab": {
          "base_uri": "https://localhost:8080/"
        },
        "id": "6ouHFamQth8x",
        "outputId": "19f959b0-3074-4504-f00c-5a5b1528e97c"
      },
      "execution_count": null,
      "outputs": [
        {
          "output_type": "stream",
          "name": "stdout",
          "text": [
            "Enter first and last name faina fridman\n",
            "First name is faina and last name is fridman\n",
            "full name is faina fridman\n"
          ]
        }
      ]
    },
    {
      "cell_type": "code",
      "source": [
        "print(\"I Love Python\")\n",
        "print('SQL isn\\'t better than python')\n",
        "print('the' + ' sky' + ' is' + ' blue')\n",
        "line1 = \"Roses are red\"\n",
        "line2 = \"Violets are blue\"\n",
        "line3 = \"I like Python\"\n",
        "line4 = \"How about you?\"\n",
        "print(line1 + \"\\n\" + line2 + \"\\n\" + line3)\n",
        "print('apple' * 5)\n",
        "apples = 'apple' * 5\n",
        "print(len(apples))\n",
        "str = 'my name is {fname}, my age is {my_age}'\n",
        "print(str.format(fname=\"frosya\",my_age=56))\n",
        "str2 = 'my name is {0}, i am {1}'\n",
        "print(str2.format(\"frosya\",56))\n",
        "str3 = 'my name is {}, i am {}'\n",
        "print(str3.format(\"frosya\",56))"
      ],
      "metadata": {
        "colab": {
          "base_uri": "https://localhost:8080/"
        },
        "id": "hblEcJnu5SuJ",
        "outputId": "ef932f9e-2f34-4617-f5f7-844b8e2e8d70"
      },
      "execution_count": null,
      "outputs": [
        {
          "output_type": "stream",
          "name": "stdout",
          "text": [
            "I Love Python\n",
            "SQL isn't better than python\n",
            "the sky is blue\n",
            "Roses are red\n",
            "Violets are blue\n",
            "I like Python\n",
            "appleappleappleappleapple\n",
            "25\n",
            "my name is frosya, my age is 56\n",
            "my name is frosya, i am 56\n",
            "my name is frosya, i am 56\n"
          ]
        }
      ]
    }
  ]
}